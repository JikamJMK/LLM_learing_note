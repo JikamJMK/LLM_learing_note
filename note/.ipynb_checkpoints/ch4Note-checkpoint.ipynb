{
 "cells": [
  {
   "cell_type": "markdown",
   "metadata": {
    "vscode": {
     "languageId": "plaintext"
    }
   },
   "source": [
    "# 实现一个GPT模型，从头开始生成文本"
   ]
  },
  {
   "cell_type": "code",
   "execution_count": 4,
   "metadata": {
    "vscode": {
     "languageId": "plaintext"
    }
   },
   "outputs": [
    {
     "name": "stdout",
     "output_type": "stream",
     "text": [
      "matplotlib version: 3.9.2\n",
      "torch version: 2.4.1\n",
      "tiktoken version: 0.8.0\n"
     ]
    }
   ],
   "source": [
    "from importlib.metadata import version  #本节需要的库\n",
    "\n",
    "import matplotlib\n",
    "import tiktoken\n",
    "import torch\n",
    "\n",
    "print(\"matplotlib version:\", version(\"matplotlib\"))\n",
    "print(\"torch version:\", version(\"torch\"))\n",
    "print(\"tiktoken version:\", version(\"tiktoken\"))"
   ]
  },
  {
   "cell_type": "markdown",
   "metadata": {
    "vscode": {
     "languageId": "plaintext"
    }
   },
   "source": [
    "- 本节主要为了实现一个gpt-like 的大语言模型LLM。 下一节再专注于训练模型"
   ]
  },
  {
   "cell_type": "markdown",
   "metadata": {
    "jp-MarkdownHeadingCollapsed": true
   },
   "source": [
    "## 1.编写一个LLM架构"
   ]
  },
  {
   "cell_type": "markdown",
   "metadata": {},
   "source": [
    "- LLM相较于传统的深度学习模型，它关键在于需要大量的参数\n",
    "- 在先前的文档里，学习过了先将文本分词，转化为token。然后再将token转入低维度的嵌入层，加上了掩码。\n",
    "- 本节会使用的模型规模将类似于gpt2模型\n",
    "- 第六节将会展示如何加载预训练权重到我们的实现中\n",
    "<hr>\n",
    "- 关于1.24亿参数的gpt-2模型的参数："
   ]
  },
  {
   "cell_type": "code",
   "execution_count": 8,
   "metadata": {},
   "outputs": [],
   "source": [
    "GPT_CONFIG_124M = {\n",
    "    \"vocab_size\": 50257,    # Vocabulary siz\n",
    "    \"context_length\": 1024, # Context length\n",
    "    \"emb_dim\": 768,         # Embedding dimension\n",
    "    \"n_heads\": 12,          # Number of attention heads\n",
    "    \"n_layers\": 12,         # Number of layers  后续章节会涉及到\n",
    "    \"drop_rate\": 0.1,       # Dropout rate\n",
    "    \"qkv_bias\": False       # Query-Key-Value bias\n",
    "}"
   ]
  },
  {
   "cell_type": "markdown",
   "metadata": {},
   "source": [
    "- 构建路径：\n",
    "- 1.构造gpt骨架\n",
    "- 2.layer normalization  3.GELU activation 4.feed forward network 5.sortcut connections"
   ]
  },
  {
   "cell_type": "code",
   "execution_count": 10,
   "metadata": {},
   "outputs": [],
   "source": [
    "import torch\n",
    "import torch.nn as nn\n",
    "\n",
    "\n",
    "class DummyGPTModel(nn.Module):\n",
    "    def __init__(self, cfg):  \n",
    "        super().__init__()  #初始化\n",
    "        self.tok_emb = nn.Embedding(cfg[\"vocab_size\"], cfg[\"emb_dim\"])  #创建接受token的嵌入层。参数为词汇表大小和转化后单token的维度\n",
    "        self.pos_emb = nn.Embedding(cfg[\"context_length\"], cfg[\"emb_dim\"]) #创建位置编码的嵌入层，参数为单个处理文本的长度和单token的维度\n",
    "        self.drop_emb = nn.Dropout(cfg[\"drop_rate\"]) #初始化dropout层\n",
    "        \n",
    "        # 使用占位的 TransformerBlock 块\n",
    "        self.trf_blocks = nn.Sequential(\n",
    "            *[DummyTransformerBlock(cfg) for _ in range(cfg[\"n_layers\"])])\n",
    "        \n",
    "        # 使用占位的LayerNorm正则化层\n",
    "        self.final_norm = DummyLayerNorm(cfg[\"emb_dim\"])\n",
    "        self.out_head = nn.Linear(\n",
    "            cfg[\"emb_dim\"], cfg[\"vocab_size\"], bias=False\n",
    "        )\n",
    "\n",
    "    def forward(self, in_idx):\n",
    "        batch_size, seq_len = in_idx.shape\n",
    "        tok_embeds = self.tok_emb(in_idx) #获得token嵌入\n",
    "        pos_embeds = self.pos_emb(torch.arange(seq_len, device=in_idx.device)) #获得位置嵌入\n",
    "        x = tok_embeds + pos_embeds #将token嵌入和位置嵌入相加\n",
    "        x = self.drop_emb(x) #通过dropout层处理\n",
    "        x = self.trf_blocks(x) #通过TransformerBlock处理\n",
    "        x = self.final_norm(x) #应用最终的正则化层\n",
    "        logits = self.out_head(x) #映射到词汇表大小的维度\n",
    "        return logits\n",
    "\n",
    "\n",
    "class DummyTransformerBlock(nn.Module):\n",
    "    def __init__(self, cfg):\n",
    "        super().__init__()\n",
    "       #这个类只是一个占位符，模拟Transformerblock块使用\n",
    "\n",
    "    def forward(self, x):\n",
    "        # 不进行任何处理，直接返回\n",
    "        return x\n",
    "\n",
    "\n",
    "class DummyLayerNorm(nn.Module):\n",
    "    def __init__(self, normalized_shape, eps=1e-5):\n",
    "        super().__init__()\n",
    "        # 同上方的类一样。\n",
    "\n",
    "    def forward(self, x):\n",
    "        return x"
   ]
  },
  {
   "cell_type": "code",
   "execution_count": 11,
   "metadata": {},
   "outputs": [
    {
     "name": "stdout",
     "output_type": "stream",
     "text": [
      "tensor([[6109, 3626, 6100,  345],\n",
      "        [6109, 1110, 6622,  257]])\n"
     ]
    }
   ],
   "source": [
    "import tiktoken\n",
    "\n",
    "tokenizer = tiktoken.get_encoding(\"gpt2\")  #调用tiktoken库的分词器\n",
    "\n",
    "batch = []   #创建一个空的批次\n",
    "\n",
    "txt1 = \"Every effort moves you\"\n",
    "txt2 = \"Every day holds a\"\n",
    "\n",
    "batch.append(torch.tensor(tokenizer.encode(txt1)))   #将上述两个文档转化为张量(1,[编码后],[token维度])，加入到batch中\n",
    "batch.append(torch.tensor(tokenizer.encode(txt2)))\n",
    "batch = torch.stack(batch, dim=0) #将txt1和txt2的文本向量在第0层上进行堆叠 [2,[编码后],[token维度]]\n",
    "print(batch)"
   ]
  },
  {
   "cell_type": "code",
   "execution_count": 12,
   "metadata": {},
   "outputs": [
    {
     "name": "stdout",
     "output_type": "stream",
     "text": [
      "Output shape: torch.Size([2, 4, 50257])\n",
      "tensor([[[-0.9289,  0.2748, -0.7557,  ..., -1.6070,  0.2702, -0.5888],\n",
      "         [-0.4476,  0.1726,  0.5354,  ..., -0.3932,  1.5285,  0.8557],\n",
      "         [ 0.5680,  1.6053, -0.2155,  ...,  1.1624,  0.1380,  0.7425],\n",
      "         [ 0.0447,  2.4787, -0.8843,  ...,  1.3219, -0.0864, -0.5856]],\n",
      "\n",
      "        [[-1.5474, -0.0542, -1.0571,  ..., -1.8061, -0.4494, -0.6747],\n",
      "         [-0.8422,  0.8243, -0.1098,  ..., -0.1434,  0.2079,  1.2046],\n",
      "         [ 0.1355,  1.1858, -0.1453,  ...,  0.0869, -0.1590,  0.1552],\n",
      "         [ 0.1666, -0.8138,  0.2307,  ...,  2.5035, -0.3055, -0.3083]]],\n",
      "       grad_fn=<UnsafeViewBackward0>)\n"
     ]
    }
   ],
   "source": [
    "torch.manual_seed(123)\n",
    "model = DummyGPTModel(GPT_CONFIG_124M)  #导入配置信息，创建一个模型实例\n",
    "\n",
    "logits = model(batch)   #将batch传入\n",
    "print(\"Output shape:\", logits.shape) \n",
    "print(logits)"
   ]
  },
  {
   "cell_type": "markdown",
   "metadata": {
    "jp-MarkdownHeadingCollapsed": true
   },
   "source": [
    "## 2.利用layer normalization 来对激活值进行标准化"
   ]
  },
  {
   "cell_type": "markdown",
   "metadata": {},
   "source": [
    "- layer normalization(也称layerNorm) ([Ba et al. 2016](https://arxiv.org/abs/1607.06450)),将神经网络的激活值平均值围绕0附近，方差围绕在1附近。\n",
    "- 使得训练更加稳定且更快的汇聚有效权重。\n",
    "- 这个标准化操作可以应用在多头注意力处理之前/之后，也可以应用在最终输出层之前。"
   ]
  },
  {
   "cell_type": "code",
   "execution_count": 15,
   "metadata": {},
   "outputs": [
    {
     "name": "stdout",
     "output_type": "stream",
     "text": [
      "tensor([[0.2260, 0.3470, 0.0000, 0.2216, 0.0000, 0.0000],\n",
      "        [0.2133, 0.2394, 0.0000, 0.5198, 0.3297, 0.0000]],\n",
      "       grad_fn=<ReluBackward0>)\n"
     ]
    }
   ],
   "source": [
    "#传输一个小样例到一个小的处理层来做演示\n",
    "torch.manual_seed(123)\n",
    "\n",
    "batch_example = torch.randn(2,5) #创建一个小的随机数样例\n",
    "\n",
    "layer = nn.Sequential(nn.Linear(5,6),nn.ReLU()) #Seuqential将多个神经网络层按顺序组合在一起，可以将数据按顺序传递给每一层\n",
    "#Linear 为线性变化层，将5维变成6维度。 ReLU为激活函数，将线性层的输出进行非线性变换（作用是将小于0的输入值截断为0，大于0的输入值保持不变）\n",
    "out = layer(batch_example) \n",
    "print(out)"
   ]
  },
  {
   "cell_type": "code",
   "execution_count": 16,
   "metadata": {},
   "outputs": [
    {
     "name": "stdout",
     "output_type": "stream",
     "text": [
      "Mean:\n",
      " tensor([[0.1324],\n",
      "        [0.2170]], grad_fn=<MeanBackward1>)\n",
      "Variance:\n",
      " tensor([[0.0231],\n",
      "        [0.0398]], grad_fn=<VarBackward0>)\n"
     ]
    }
   ],
   "source": [
    "mean = out.mean(dim=-1,keepdim=True) #计算out最后一维度的均值\n",
    "var = out.var(dim=-1,keepdim = True) #计算最后一维度的方差\n",
    "\n",
    "print(\"Mean:\\n\",mean)\n",
    "print(\"Variance:\\n\",var)"
   ]
  },
  {
   "cell_type": "code",
   "execution_count": 17,
   "metadata": {},
   "outputs": [
    {
     "name": "stdout",
     "output_type": "stream",
     "text": [
      "Normalized layer outputs:\n",
      " tensor([[ 0.6159,  1.4126, -0.8719,  0.5872, -0.8719, -0.8719],\n",
      "        [-0.0189,  0.1121, -1.0876,  1.5173,  0.5647, -1.0876]],\n",
      "       grad_fn=<DivBackward0>)\n",
      "Mean:\n",
      " tensor([[9.9341e-09],\n",
      "        [5.9605e-08]], grad_fn=<MeanBackward1>)\n",
      "Variance:\n",
      " tensor([[1.0000],\n",
      "        [1.0000]], grad_fn=<VarBackward0>)\n"
     ]
    }
   ],
   "source": [
    "out_norm = (out - mean) / torch.sqrt(var)  #将输出进行归一化\n",
    "print(\"Normalized layer outputs:\\n\",out_norm)\n",
    "\n",
    "mean = out_norm.mean(dim=-1,keepdim=True)  #计算归一化后的均值和方差\n",
    "var = out_norm.var(dim=-1,keepdim=True)\n",
    "print(\"Mean:\\n\",mean)\n",
    "print(\"Variance:\\n\",var)"
   ]
  },
  {
   "cell_type": "code",
   "execution_count": 18,
   "metadata": {},
   "outputs": [
    {
     "name": "stdout",
     "output_type": "stream",
     "text": [
      "Mean:\n",
      " tensor([[    0.0000],\n",
      "        [    0.0000]], grad_fn=<MeanBackward1>)\n",
      "Variance:\n",
      " tensor([[1.0000],\n",
      "        [1.0000]], grad_fn=<VarBackward0>)\n"
     ]
    }
   ],
   "source": [
    "#此时每一个数值，均值为0，方差为1\n",
    "#为了提高稳定性，我们可以禁用pytorch的科学计数法\n",
    "\n",
    "torch.set_printoptions(sci_mode = False) #禁用科学计数法\n",
    "print(\"Mean:\\n\",mean)\n",
    "print(\"Variance:\\n\",var) #再重新输出"
   ]
  },
  {
   "cell_type": "markdown",
   "metadata": {},
   "source": [
    "- 上面是对其中操作的分析。下面将这些压缩包装到一个类中"
   ]
  },
  {
   "cell_type": "code",
   "execution_count": 20,
   "metadata": {},
   "outputs": [],
   "source": [
    "class LayerNorm(nn.Module): \n",
    "    def __init__(self,emb_dim): #传入最后一维度的维度大小。\n",
    "        super().__init__(); #不能在init之前定义类的变量。所以必须优先进行父类初始化\n",
    "        self.eps = 1e-5 #定义一个很小的数值，防止除以0\n",
    "        self.scale = nn.Parameter(torch.ones(emb_dim)) # 用于缩放\n",
    "        self.shift = nn.Parameter(torch.zeros(emb_dim)) #用于平移\n",
    "\n",
    "    def forward(self,x):\n",
    "        mean  = x.mean(dim = -1,keepdim =True)  #计算平均值\n",
    "        var = x.var(dim=-1,keepdim=True,unbiased=False) #计算方差，unbiased=False 确保我们使用有偏方差（样本方差）\n",
    "        norm_x = (x - mean) / torch.sqrt(var + self.eps) #归一化处理\n",
    "        return self.scale*norm_x+self.shift #对归一化后的norm_x 进行缩放和平移，其中scale和shift都是可训练的参数，用于提高网络的表达能力\n",
    "        "
   ]
  },
  {
   "cell_type": "markdown",
   "metadata": {},
   "source": [
    "**缩放和平移**\n",
    "- 除了计算平均值和方差来进行归一化处理，上述还有两个变量scale 和 shift，用于缩放和平移。\n",
    "- 最初刚定义好的这两个矩阵没有任何作用，但是随着LLM训练的进行，它们的值会改变，可以用于提高模型的性能\n",
    "- 最后输出的时候，对归一化的模型进行缩放和平移，有利于模型适配数据。\n",
    "**偏置变量 biased variance**\n",
    "- 上述使用了` unbiased = False `表明使用了公式$ \\frac{\\sum(x_i - \\bar{x})^2}{n}$ 来计算变量（以n为除数，而不是正常的n-1）\n",
    "- 因为LLM处理的数据规模较大，n和n-1的差距可以忽略，并且n 也是gpt-2采用的（偏置变量）\n"
   ]
  },
  {
   "cell_type": "code",
   "execution_count": 22,
   "metadata": {},
   "outputs": [],
   "source": [
    "ln = LayerNorm(emb_dim = 5) #应用上面定义的处理层 。 \n",
    "out_ln = ln(batch_example)"
   ]
  },
  {
   "cell_type": "code",
   "execution_count": 23,
   "metadata": {},
   "outputs": [
    {
     "name": "stdout",
     "output_type": "stream",
     "text": [
      "Mean:\n",
      " tensor([[    -0.0000],\n",
      "        [     0.0000]], grad_fn=<MeanBackward1>)\n",
      "Variance:\n",
      " tensor([[1.0000],\n",
      "        [1.0000]], grad_fn=<VarBackward0>)\n"
     ]
    }
   ],
   "source": [
    "mean = out_ln.mean(dim = -1,keepdim = True) #求最后处理完的数据的平均值 和方差\n",
    "var = out_ln.var(dim = -1,unbiased = False , keepdim = True)\n",
    " \n",
    "print(\"Mean:\\n\" ,mean)\n",
    "print(\"Variance:\\n\",var)"
   ]
  },
  {
   "cell_type": "markdown",
   "metadata": {
    "jp-MarkdownHeadingCollapsed": true
   },
   "source": [
    "## 3.利用GELU激活函数来实现前馈网络"
   ]
  },
  {
   "cell_type": "markdown",
   "metadata": {},
   "source": [
    "- 本段实现一个应用于LLMs中的小型的神经网络模块\n",
    "- 从激活函数开始。深度学习中，ReLU是非常常用的激活函数。在LLMs中，除了传统的ReLU，使用了更多种类的激活函数，比如GELU , SwiGLU\n",
    "- 这两个函数更加复杂，表现更好，而不像ReLU中简单的线性分块处理"
   ]
  },
  {
   "cell_type": "markdown",
   "metadata": {},
   "source": [
    "- GELU([Hendrycks and Gimpel 2016](https://arxiv.org/abs/1606.08415)) 可以有几种实现方式。\n",
    "- 最精确的版本是 GELU(x)=x⋅Φ(x)， 其中 Φ(x)是标准高斯分布的累计分布函数\n",
    "- 通常使用它的近似版本，效率更高： $ \\text{GELU}(x) \\approx 0.5 \\cdot x \\cdot \\left(1+\\tanh\\left[\\sqrt{\\frac{2}{\\pi}} \\cdot \\left(x + 0.044715 \\cdot x^3\\right)\\right]\\right)$\n",
    "- 最初的gpt-2 也是使用这个近似值进行的训练"
   ]
  },
  {
   "cell_type": "code",
   "execution_count": 27,
   "metadata": {},
   "outputs": [],
   "source": [
    "class GELU(nn.Module):  #定义一个GELU激活函数\n",
    "    def __init__(self):\n",
    "        super().__init__()\n",
    "\n",
    "    def forward(self, x):  #按照上述近似函数进行处理\n",
    "        return 0.5 * x * (1 + torch.tanh(\n",
    "            torch.sqrt(torch.tensor(2.0 / torch.pi)) * \n",
    "            (x + 0.044715 * torch.pow(x, 3))\n",
    "        ))"
   ]
  },
  {
   "cell_type": "code",
   "execution_count": 28,
   "metadata": {},
   "outputs": [
    {
     "data": {
      "image/png": "[encoded data removed]",
      "text/plain": [
       "<Figure size 800x300 with 2 Axes>"
      ]
     },
     "metadata": {},
     "output_type": "display_data"
    }
   ],
   "source": [
    "import matplotlib.pyplot as plt  #导入 matplotlib函数用于绘图\n",
    "\n",
    "gelu ,relu = GELU(),nn.ReLU() #定义了两个激活函数的实例。其中GELU不是使用的pytorch库的nn.GELU,而是上面自定义的GELU\n",
    "\n",
    "x = torch.linspace(-3,3,100) #在-3到3之间定义100个点，做一个简易的样本\n",
    "y_gelu, y_relu = gelu(x) ,relu(x) #以x为自变量，生成因变量y\n",
    "\n",
    "plt.figure(figsize = (8,3)) #定义一个8x3英寸的图表\n",
    "for i,(y,label) in enumerate (zip([y_gelu,y_relu],[\"GELU\",\"ReLU\"]),1): #enumerate 用来遍历gelu和relu的输出，并且为每个激活函数定义了标签\"GELU/RELU\"。\n",
    "    #最后一个参数表示计数从1开始，即此时[y_gelu,\"GELU\"]的索引为1，[y_relu,\"ReLU\"]的索引为2\n",
    "    plt.subplot(1,2,i); #创建一个1X2 的子图，并制定当前绘制位置为第i个子图。\n",
    "    plt.plot(x,y); ##绘制x对应y的曲线\n",
    "    plt.title(f\"{label} activation function\") #定义子图标题\n",
    "    plt.xlabel(\"x\") #定义子图横轴，纵轴的标签\n",
    "    plt.ylabel(f\"{label}(x)\")\n",
    "    plt.grid(True) #在图中添加网格，以更好地观察函数的变化\n",
    "\n",
    "plt.tight_layout() #自动调节子图的尺寸，紧凑化。\n",
    "plt.show() #展示子图"
   ]
  },
  {
   "cell_type": "markdown",
   "metadata": {},
   "source": [
    "- 如上图所示，ReLU是更精准的线性函数。当输入为正数，保留。输入为负数，直接归零。\n",
    "- 而GELU并不是纯线性的，在非0的时候有负的梯度（除了-0.75左右，梯度也为0），可以尽可能地避免负值导致的梯度消失\n",
    "  <br>\n",
    "- 实现`FeedForward ` 小型神经网络模型"
   ]
  },
  {
   "cell_type": "code",
   "execution_count": 30,
   "metadata": {},
   "outputs": [],
   "source": [
    "class FeedForward(nn.Module): #定义一个前馈函数的类\n",
    "    def __init__(self,cfg):\n",
    "        super().__init__();\n",
    "        self.layers = nn.Sequential(\n",
    "            nn.Linear(cfg[\"emb_dim\"],4*cfg[\"emb_dim\"]), #将输入（维度为cfg[\"emb_dim\"]）的维度放大4倍 \n",
    "            GELU(), #通过GELU函数进行处理\n",
    "            nn.Linear(4*cfg[\"emb_dim\"],cfg[\"emb_dim\"]) #将输出重新缩小4倍，回归原来的维度\n",
    "        )\n",
    "        #先扩展维度，能够学习更多的特征，捕获更多特征\n",
    "        #后收缩维度，避免模型过大。\n",
    "\n",
    "    def forward(self,x):\n",
    "        return self.layers(x) #通过自定义的序列层进行处理"
   ]
  },
  {
   "cell_type": "code",
   "execution_count": 31,
   "metadata": {},
   "outputs": [
    {
     "name": "stdout",
     "output_type": "stream",
     "text": [
      "768\n"
     ]
    }
   ],
   "source": [
    "print(GPT_CONFIG_124M[\"emb_dim\"])"
   ]
  },
  {
   "cell_type": "code",
   "execution_count": 32,
   "metadata": {},
   "outputs": [
    {
     "name": "stdout",
     "output_type": "stream",
     "text": [
      "torch.Size([2, 3, 768])\n"
     ]
    }
   ],
   "source": [
    "ffn = FeedForward(GPT_CONFIG_124M) #创建一个处理最后一个维度为768的前馈函数\n",
    "\n",
    "#input 形状 : [batch_size,num_token,emb_size]\n",
    "x = torch.rand(2,3,768)\n",
    "out = ffn(x)\n",
    "print(out.shape)  #检验发现，经过ffn处理以后，输入和输出的维度大小是相同的，即它不改变最终的维度"
   ]
  },
  {
   "cell_type": "code",
   "execution_count": null,
   "metadata": {},
   "outputs": [],
   "source": []
  },
  {
   "cell_type": "markdown",
   "metadata": {
    "jp-MarkdownHeadingCollapsed": true
   },
   "source": [
    "## 4.添加快捷链接"
   ]
  },
  {
   "cell_type": "markdown",
   "metadata": {},
   "source": [
    "\n",
    "- 又称作跳跃连接或者残差连接。\n",
    "- 最初快速连接是在计算机视觉的深度学习网络中提出的，用于缓解梯度消失的问题。\n",
    "- 快捷连接创建了一个更短的路径进行梯度的流动\n",
    "- 通过想某一个的输出直接添加到后面一层的输出上，通常跳跃一层，或者更多层。可以避免每一层都只依赖前面的值传递过来，从而减轻了梯度消失问题\n",
    "  "
   ]
  },
  {
   "cell_type": "code",
   "execution_count": 35,
   "metadata": {},
   "outputs": [],
   "source": [
    "class ExampleDeepNeuralNetwork(nn.Module):\n",
    "    def __init__(self, layer_sizes, use_shortcut):\n",
    "        super().__init__()\n",
    "        self.use_shortcut = use_shortcut   #是否使用快捷连接\n",
    "        self.layers = nn.ModuleList([ #创建一个多层列表 ，x会依次通过这些层处理，所以x的大小只要满足layer_sizes[0]，就可以进行\n",
    "            nn.Sequential(nn.Linear(layer_sizes[0], layer_sizes[1]), GELU()),\n",
    "            nn.Sequential(nn.Linear(layer_sizes[1], layer_sizes[2]), GELU()),\n",
    "            nn.Sequential(nn.Linear(layer_sizes[2], layer_sizes[3]), GELU()),\n",
    "            nn.Sequential(nn.Linear(layer_sizes[3], layer_sizes[4]), GELU()),\n",
    "            nn.Sequential(nn.Linear(layer_sizes[4], layer_sizes[5]), GELU())\n",
    "        ])\n",
    "\n",
    "    def forward(self, x):\n",
    "        for layer in self.layers: #将x通过模型列表进行处理\n",
    "            # 计算当前层的输出\n",
    "            layer_output = layer(x)\n",
    "            # 检查快捷连接是否可以被添加\n",
    "            if self.use_shortcut and x.shape == layer_output.shape:\n",
    "                x = x + layer_output\n",
    "            else:\n",
    "                x = layer_output\n",
    "        return x\n",
    "\n",
    "\n",
    "def print_gradients(model, x): #打印梯度\n",
    "    # 向前传播\n",
    "    output = model(x)\n",
    "    target = torch.tensor([[0.]])\n",
    "\n",
    "    loss = nn.MSELoss() #用于计算两个参数之间的差值，并存储在loss中\n",
    "    loss = loss(output, target)\n",
    "    \n",
    "    # 反向传播来计算梯度\n",
    "    loss.backward()\n",
    "\n",
    "    for name, param in model.named_parameters():\n",
    "        if 'weight' in name:\n",
    "            # 返回权重梯度的均值的绝对值\n",
    "            print(f\"{name} has gradient mean of {param.grad.abs().mean().item()}\")"
   ]
  },
  {
   "cell_type": "code",
   "execution_count": 36,
   "metadata": {},
   "outputs": [
    {
     "name": "stdout",
     "output_type": "stream",
     "text": [
      "layers.0.0.weight has gradient mean of 0.00020173590746708214\n",
      "layers.1.0.weight has gradient mean of 0.0001201116101583466\n",
      "layers.2.0.weight has gradient mean of 0.0007152042235247791\n",
      "layers.3.0.weight has gradient mean of 0.0013988739810883999\n",
      "layers.4.0.weight has gradient mean of 0.00504964729771018\n"
     ]
    }
   ],
   "source": [
    "#没有shortcut connections 的梯度值\n",
    "\n",
    "layer_sizes = [3,3,3,3,3,1] #会经过的处理层的大小\n",
    "\n",
    "sample_inputs = torch.tensor([[1.,0.,-1.]]) \n",
    "\n",
    "torch.manual_seed(123)\n",
    "model_without_shortcut = ExampleDeepNeuralNetwork(\n",
    "    layer_sizes,use_shortcut = False  #不适用shortcut进行处理\n",
    ")\n",
    "print_gradients(model_without_shortcut,sample_inputs)"
   ]
  },
  {
   "cell_type": "code",
   "execution_count": 37,
   "metadata": {},
   "outputs": [
    {
     "name": "stdout",
     "output_type": "stream",
     "text": [
      "layers.0.0.weight has gradient mean of 0.22169791162014008\n",
      "layers.1.0.weight has gradient mean of 0.20694102346897125\n",
      "layers.2.0.weight has gradient mean of 0.32896995544433594\n",
      "layers.3.0.weight has gradient mean of 0.2665732204914093\n",
      "layers.4.0.weight has gradient mean of 1.3258541822433472\n"
     ]
    }
   ],
   "source": [
    "torch.manual_seed(123)\n",
    "model_with_shortcut = ExampleDeepNeuralNetwork(\n",
    "    layer_sizes,use_shortcut = True #使用shortcut进行处理\n",
    ")\n",
    "print_gradients(model_with_shortcut,sample_inputs)"
   ]
  },
  {
   "cell_type": "markdown",
   "metadata": {},
   "source": [
    "- 使用shortcut ，可以避免在最开始几层的时候，梯度消失的问题"
   ]
  },
  {
   "cell_type": "markdown",
   "metadata": {
    "jp-MarkdownHeadingCollapsed": true
   },
   "source": [
    "## 5.将注意力层和线性层在Transformer block中进行连接"
   ]
  },
  {
   "cell_type": "markdown",
   "metadata": {},
   "source": [
    "- 在本节中，将先前的几个概念合并进入一个称为 transformer block 的块中\n",
    "- 一个transformer包含多头因果注意力层，线性层，前馈神经网络。 同时使用dropout和shortcut来处理连接。"
   ]
  },
  {
   "cell_type": "code",
   "execution_count": 41,
   "metadata": {},
   "outputs": [],
   "source": [
    "from previous_chapters import MultiHeadAttention #将在先前章节写过的多头注意力函数导入\n",
    "\n",
    "\n",
    "class TransformerBlock(nn.Module):\n",
    "    def __init__(self, cfg):\n",
    "        super().__init__()\n",
    "        self.att = MultiHeadAttention(                  #实例化一个根据配置cfg的多头处理层\n",
    "            d_in=cfg[\"emb_dim\"],                    \n",
    "            d_out=cfg[\"emb_dim\"],\n",
    "            context_length=cfg[\"context_length\"],\n",
    "            num_heads=cfg[\"n_heads\"], \n",
    "            dropout=cfg[\"drop_rate\"],\n",
    "            qkv_bias=cfg[\"qkv_bias\"])\n",
    "        self.ff = FeedForward(cfg)                     #实例化一个前馈函数\n",
    "        self.norm1 = LayerNorm(cfg[\"emb_dim\"])         #实例化层归一化函数\n",
    "        self.norm2 = LayerNorm(cfg[\"emb_dim\"])\n",
    "        self.drop_shortcut = nn.Dropout(cfg[\"drop_rate\"]) #实例化dropout\n",
    "\n",
    "    def forward(self, x):\n",
    "        # 用shortcut连接注意力块\n",
    "        shortcut = x\n",
    "        x = self.norm1(x)\n",
    "        x = self.att(x)  # Shape [batch_size, num_tokens, emb_size]\n",
    "        x = self.drop_shortcut(x)\n",
    "        x = x + shortcut  # 加到原来的数值上\n",
    "\n",
    "        # 用shortcut处理前馈函数。\n",
    "        shortcut = x\n",
    "        x = self.norm2(x)\n",
    "        x = self.ff(x)\n",
    "        x = self.drop_shortcut(x)\n",
    "        x = x + shortcut  # Add the original input back\n",
    "\n",
    "        return x"
   ]
  },
  {
   "cell_type": "markdown",
   "metadata": {},
   "source": [
    "- 经过transformer block处理后，输入输出向量的维度不会发生变化\n",
    "- 可以认为这个方法处理后获得的输出，是学习注意力（ch3）那章中，“上下文参数”的扩展"
   ]
  },
  {
   "cell_type": "code",
   "execution_count": 43,
   "metadata": {},
   "outputs": [
    {
     "name": "stdout",
     "output_type": "stream",
     "text": [
      "Input shape: torch.Size([2, 4, 768])\n",
      "Output shape: torch.Size([2, 4, 768])\n"
     ]
    }
   ],
   "source": [
    "torch.manual_seed(123)\n",
    "\n",
    "x = torch.rand(2,4,768) #定义一个测试用向量，维度为768\n",
    "block = TransformerBlock(GPT_CONFIG_124M) #实例化一个transformer block处理器\n",
    "output = block(x) #将x经过transformer block处理后，得到了输出output\n",
    "\n",
    "print(\"Input shape:\",x.shape)\n",
    "print(\"Output shape:\",output.shape)\n"
   ]
  },
  {
   "cell_type": "markdown",
   "metadata": {
    "jp-MarkdownHeadingCollapsed": true
   },
   "source": [
    "## 6.编写GPT模型"
   ]
  },
  {
   "cell_type": "markdown",
   "metadata": {},
   "source": [
    "- 现在将transformer block 模块加入到最开始写的gpt框架中。\n",
    "- 注意到transformer block 模块会出现多次，在这个例子里，我们将它重复12次\n",
    "- 这里12，对应的就是最开始配置中 ,`cfg[\"n_layers\"] = 12 ` "
   ]
  },
  {
   "cell_type": "code",
   "execution_count": 46,
   "metadata": {},
   "outputs": [],
   "source": [
    "class GPTModel(nn.Module):\n",
    "    def __init__(self,cfg):\n",
    "        super().__init__()\n",
    "        self.tok_emb = nn.Embedding(cfg[\"vocab_size\"],cfg[\"emb_dim\"])     #创建词汇的嵌入层 形状为（词汇表大小，词元维度）\n",
    "        self.pos_emb = nn.Embedding(cfg[\"context_length\"],cfg[\"emb_dim\"]) #创建位置嵌入\n",
    "        self.drop_emb = nn.Dropout(cfg[\"drop_rate\"])\n",
    "\n",
    "        self.trf_blocks = nn.Sequential(\n",
    "            *[TransformerBlock(cfg) for _ in range(cfg[\"n_layers\"])]  #创建重复transformer blocks.\n",
    "            # *表示解包。通过for循环获得的是一个列表。将列表中每一个元素解包出来，单独放到sequential中。这样sequential中就是12个元素，而不是一个子列表（子列表拥有12个元素）\n",
    "        )\n",
    "        self.final_norm = LayerNorm(cfg[\"emb_dim\"]) #最终归一层 \n",
    "        self.out_head = nn.Linear(cfg[\"emb_dim\"],cfg[\"vocab_size\"],bias = False )  #用于将向量的维度变为词汇表维度\n",
    "\n",
    "    def forward(self,in_idx):\n",
    "        batch_size,seq_len = in_idx.shape #获得批次数目，每批内词汇数目\n",
    "        tok_embeds = self.tok_emb(in_idx)  #将in_idx 通过tok_emb嵌入层进行转化。每个token被扩展为一个向量\n",
    "        pos_embeds = self.pos_emb(torch.arange(seq_len,device=in_idx.device))  #创建一个位置向量，这个嵌入层需要也在in_idx 所在的处理器上（CPU/GPU）\n",
    "        x = tok_embeds + pos_embeds  #相加\n",
    "        x = self.drop_emb(x) #dropout处理\n",
    "        x = self.trf_blocks(x) #重复调用transformer blocks\n",
    "        x = self.final_norm(x) #最后再进行一次归一化处理\n",
    "        logits = self.out_head(x) #将输出的emb维度转化为词汇维度的概率分布，用于后续生成对应的词汇。\n",
    "        return logits"
   ]
  },
  {
   "cell_type": "markdown",
   "metadata": {},
   "source": [
    "- 使用124M配置参数模型，现在可以实例化一个gpt模型（初始化权重为随机）"
   ]
  },
  {
   "cell_type": "code",
   "execution_count": 48,
   "metadata": {},
   "outputs": [
    {
     "name": "stdout",
     "output_type": "stream",
     "text": [
      "Input batch:\n",
      " tensor([[6109, 3626, 6100,  345],\n",
      "        [6109, 1110, 6622,  257]])\n",
      "\n",
      "Output shape:\n",
      " torch.Size([2, 4, 50257])\n",
      "tensor([[[ 0.1381,  0.0077, -0.1963,  ..., -0.0222, -0.1060,  0.1717],\n",
      "         [ 0.3865, -0.8408, -0.6564,  ..., -0.5163,  0.2369, -0.3357],\n",
      "         [ 0.6989, -0.1829, -0.1631,  ...,  0.1472, -0.6504, -0.0056],\n",
      "         [-0.4290,  0.1669, -0.1258,  ...,  1.1579,  0.5303, -0.5549]],\n",
      "\n",
      "        [[ 0.1094, -0.2894, -0.1467,  ..., -0.0557,  0.2911, -0.2824],\n",
      "         [ 0.0882, -0.3552, -0.3527,  ...,  1.2930,  0.0053,  0.1898],\n",
      "         [ 0.6091,  0.4702, -0.4094,  ...,  0.7688,  0.3787, -0.1974],\n",
      "         [-0.0612, -0.0737,  0.4751,  ...,  1.2463, -0.3834,  0.0609]]],\n",
      "       grad_fn=<UnsafeViewBackward0>)\n"
     ]
    }
   ],
   "source": [
    "torch.manual_seed(123)\n",
    "model = GPTModel(GPT_CONFIG_124M)\n",
    "\n",
    "out = model(batch)\n",
    "print(\"Input batch:\\n\",batch)\n",
    "print(\"\\nOutput shape:\\n\",out.shape)\n",
    "print(out)"
   ]
  },
  {
   "cell_type": "markdown",
   "metadata": {},
   "source": [
    "- 下一节会对这个模型进行训练\n",
    "- 现在对124M模型的参数数量进行再次检查："
   ]
  },
  {
   "cell_type": "code",
   "execution_count": 50,
   "metadata": {},
   "outputs": [
    {
     "name": "stdout",
     "output_type": "stream",
     "text": [
      "Total number of parameters : 163,009,536\n"
     ]
    }
   ],
   "source": [
    "total_params = sum(p.numel() for p in model.parameters()) #返回模型参数总和\n",
    "print(f\"Total number of parameters : {total_params:,}\")"
   ]
  },
  {
   "cell_type": "markdown",
   "metadata": {},
   "source": [
    "- 这里最后输出的参数总数是163M，而不是124M\n",
    "- 是因为最初的GPT版本中，采用了共享权重的方式 将tok_emb的权重共享到了输出层 `self.out_head.weight == self.tok_emb.weight `\n",
    "- 而我们这里写的没有共享权重，所以多了一个 50257 * 768 的权重 约39M"
   ]
  },
  {
   "cell_type": "code",
   "execution_count": 52,
   "metadata": {},
   "outputs": [
    {
     "name": "stdout",
     "output_type": "stream",
     "text": [
      "Token embedding layer shape:  torch.Size([50257, 768])\n",
      "Output layer shape:  torch.Size([50257, 768])\n"
     ]
    }
   ],
   "source": [
    "print(\"Token embedding layer shape: \",model.tok_emb.weight.shape)\n",
    "print(\"Output layer shape: \",model.out_head.weight.shape) #输出这两个层的维度，他们应该是相同的（此时还没有共享矩阵）"
   ]
  },
  {
   "cell_type": "code",
   "execution_count": 53,
   "metadata": {},
   "outputs": [
    {
     "name": "stdout",
     "output_type": "stream",
     "text": [
      "Number of trainable parameters considering weight tying:124,412,160\n"
     ]
    }
   ],
   "source": [
    "total_params_gpt2 = total_params - sum(p.numel() for p in  model.out_head.parameters())\n",
    "print(f\"Number of trainable parameters considering weight tying:{total_params_gpt2:,}\")  #输出减去一个output层的维度，此时即为gpt2对应的124M维度"
   ]
  },
  {
   "cell_type": "markdown",
   "metadata": {},
   "source": [
    "- 这里为了便于训练，就没有共享。后面第五章的时候会应用内存共享机制。\n",
    "- 最后，计算模型所需要消耗的内存："
   ]
  },
  {
   "cell_type": "code",
   "execution_count": 55,
   "metadata": {},
   "outputs": [
    {
     "name": "stdout",
     "output_type": "stream",
     "text": [
      "Total size of model :621.83MB\n"
     ]
    }
   ],
   "source": [
    "total_size_bytes = total_params * 4  #计算总消耗的字节数\n",
    "total_size_mb = total_size_bytes / (1024*1024) #将字节数转化为MB\n",
    "\n",
    "print(f\"Total size of model :{total_size_mb:.2f}MB\")\n"
   ]
  },
  {
   "cell_type": "markdown",
   "metadata": {
    "jp-MarkdownHeadingCollapsed": true
   },
   "source": [
    "## 7.生成文本\n",
    "- 目前实现的功能是从已有的inputs中，向下一次生成一个单词\n",
    "- 下面generate_text_simple函数利用贪心的方法，每次只简单的选择概率最大的数值（这种情况下甚至可以不需要使用softmax）\n",
    "- 下一节会使用更先进的生成文本函数"
   ]
  },
  {
   "cell_type": "code",
   "execution_count": 57,
   "metadata": {},
   "outputs": [],
   "source": [
    "def generate_text_simple(model, idx, max_new_tokens, context_size):\n",
    "    # idx 是一个大小为（batch，n_tokens） 的数组，表明当前上下文的序列\n",
    "    for _ in range(max_new_tokens):\n",
    "        \n",
    "        #当当前的文本数目大于支持的大小时，进行裁剪 。 例如，LLM只支持5个tokens，而context size 为10，则只保留最后5个\n",
    "        idx_cond = idx[:, -context_size:]  # : , -context_size :  表示批次全部提取，而文本只提取最后5个\n",
    "        \n",
    "        # 在不计算梯度的情况下向前传播， 获得预测值\n",
    "        with torch.no_grad():\n",
    "            logits = model(idx_cond)\n",
    "        \n",
    "        #只关注最后一个单词的logits 数组形状从(batch,n_tokens , vocab_size) --> (batch,vocab_size)\n",
    "        logits = logits[:, -1, :]  \n",
    "\n",
    "        # 应用softmax来获得概率分布\n",
    "        probas = torch.softmax(logits, dim=-1)  # (batch, vocab_size)\n",
    "\n",
    "        #获得下一个概率分布最大的那个值，用于查询获得下一个序列值\n",
    "        idx_next = torch.argmax(probas, dim=-1, keepdim=True)  # (batch, 1)\n",
    "\n",
    "        # 将刚刚获得的下一个序列值加到当前序列上\n",
    "        idx = torch.cat((idx, idx_next), dim=1)  # (batch, n_tokens+1)\n",
    "\n",
    "    return idx"
   ]
  },
  {
   "cell_type": "code",
   "execution_count": 89,
   "metadata": {},
   "outputs": [
    {
     "name": "stdout",
     "output_type": "stream",
     "text": [
      "encoded: [15496, 11, 314, 716]\n",
      "encoded_tensor.shape: torch.Size([1, 4])\n"
     ]
    }
   ],
   "source": [
    "#准备一个输入文本\n",
    "\n",
    "start_context = \"Hello, I am\"\n",
    "\n",
    "encoded = tokenizer.encode(start_context)  #1.先进行分词，编码\n",
    "print(\"encoded:\", encoded) #输出编码后的结果。每一个词元对应了一个词元id\n",
    "\n",
    "encoded_tensor = torch.tensor(encoded).unsqueeze(0)  #2.将刚刚获得的编码结果转化为张量的形式，并且在第0维度添加一个新的维度\n",
    "print(\"encoded_tensor.shape:\", encoded_tensor.shape)"
   ]
  },
  {
   "cell_type": "code",
   "execution_count": 93,
   "metadata": {},
   "outputs": [
    {
     "name": "stdout",
     "output_type": "stream",
     "text": [
      "Output: tensor([[15496,    11,   314,   716, 27018, 24086, 47843, 30961, 42348,  7267]])\n",
      "Output length: 10\n"
     ]
    }
   ],
   "source": [
    "model.eval() \n",
    "#采用模型的评估模式，关闭了训练时需要的dropout  ， batch normalization 更新  。这些特性在训练的时候有助于提高模型的性能，但是在推理的阶段并不需要使用\n",
    "\n",
    "out = generate_text_simple(  #调用文本生成函数\n",
    "    model = model,\n",
    "    idx = encoded_tensor,\n",
    "    max_new_tokens = 6,\n",
    "    context_size = GPT_CONFIG_124M[\"context_length\"]\n",
    ")\n",
    "\n",
    "print(\"Output:\",out)\n",
    "print(\"Output length:\",len(out[0]))\n",
    "\n"
   ]
  },
  {
   "cell_type": "code",
   "execution_count": 95,
   "metadata": {},
   "outputs": [
    {
     "name": "stdout",
     "output_type": "stream",
     "text": [
      "Hello, I am Featureiman Byeswickattribute argue\n"
     ]
    }
   ],
   "source": [
    "decode_text = tokenizer.decode(out.squeeze(0).tolist())  \n",
    "#第一步，先去除批次的维度，让所有单词在同一维度，而不进行分批。然后将单词张量转化为列表，便于交给分词器的解码函数处理\n",
    "print(decode_text)"
   ]
  },
  {
   "cell_type": "markdown",
   "metadata": {},
   "source": [
    "- 由于模型未被训练，所以上面的输出是随机的\n",
    "- 下一节将进行训练"
   ]
  },
  {
   "cell_type": "code",
   "execution_count": null,
   "metadata": {},
   "outputs": [],
   "source": []
  }
 ],
 "metadata": {
  "kernelspec": {
   "display_name": "LLMs",
   "language": "python",
   "name": "llms"
  },
  "language_info": {
   "codemirror_mode": {
    "name": "ipython",
    "version": 3
   },
   "file_extension": ".py",
   "mimetype": "text/x-python",
   "name": "python",
   "nbconvert_exporter": "python",
   "pygments_lexer": "ipython3",
   "version": "3.10.15"
  }
 },
 "nbformat": 4,
 "nbformat_minor": 4
}
