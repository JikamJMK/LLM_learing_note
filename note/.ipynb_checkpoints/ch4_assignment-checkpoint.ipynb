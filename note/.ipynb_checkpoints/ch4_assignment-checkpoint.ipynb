{
 "cells": [
  {
   "cell_type": "markdown",
   "metadata": {
    "vscode": {
     "languageId": "plaintext"
    }
   },
   "source": [
    "# 实现gpt-2 模型（通过不同的参数）"
   ]
  },
  {
   "cell_type": "code",
   "execution_count": 2,
   "metadata": {
    "vscode": {
     "languageId": "plaintext"
    }
   },
   "outputs": [],
   "source": [
    "GPT_CONFIG_small= {       #这个在ch4中已经实现了，本篇中不需要再进行。\n",
    "    \"vocab_size\": 50257,    \n",
    "    \"context_length\": 1024, \n",
    "    \"emb_dim\": 768,        \n",
    "    \"n_heads\": 12,        \n",
    "    \"n_layers\": 12,        \n",
    "    \"drop_rate\": 0.1,   \n",
    "    \"qkv_bias\": False   \n",
    "}\n",
    "\n",
    "GPT_CONFIG_medium = {\n",
    "    \"vocab_size\": 50257,   \n",
    "    \"context_length\": 1024, \n",
    "    \"emb_dim\": 1024,         \n",
    "    \"n_heads\": 16,         \n",
    "    \"n_layers\": 24,       \n",
    "    \"drop_rate\": 0.1,      \n",
    "    \"qkv_bias\": False      \n",
    "}\n",
    "\n",
    "GPT_CONFIG_large = {\n",
    "    \"vocab_size\": 50257,   \n",
    "    \"context_length\": 1024, \n",
    "    \"emb_dim\": 1280,         \n",
    "    \"n_heads\": 20,          \n",
    "    \"n_layers\": 36,        \n",
    "    \"drop_rate\": 0.1,     \n",
    "    \"qkv_bias\": False       \n",
    "}\n",
    "\n",
    "GPT_CONFIG_XL = {\n",
    "    \"vocab_size\": 50257,   \n",
    "    \"context_length\": 1024, \n",
    "    \"emb_dim\": 1600,         \n",
    "    \"n_heads\": 25,         \n",
    "    \"n_layers\": 48,         \n",
    "    \"drop_rate\": 0.1,       \n",
    "    \"qkv_bias\": False       \n",
    "}"
   ]
  },
  {
   "cell_type": "code",
   "execution_count": null,
   "metadata": {},
   "outputs": [],
   "source": []
  }
 ],
 "metadata": {
  "kernelspec": {
   "display_name": "Python 3 (ipykernel)",
   "language": "python",
   "name": "python3"
  },
  "language_info": {
   "codemirror_mode": {
    "name": "ipython",
    "version": 3
   },
   "file_extension": ".py",
   "mimetype": "text/x-python",
   "name": "python",
   "nbconvert_exporter": "python",
   "pygments_lexer": "ipython3",
   "version": "3.12.5"
  }
 },
 "nbformat": 4,
 "nbformat_minor": 4
}
