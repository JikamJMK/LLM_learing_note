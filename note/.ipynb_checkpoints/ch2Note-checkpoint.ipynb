{
 "cells": [
  {
   "cell_type": "markdown",
   "metadata": {},
   "source": [
    "# 处理文本"
   ]
  },
  {
   "cell_type": "code",
   "execution_count": 3,
   "metadata": {},
   "outputs": [
    {
     "name": "stdout",
     "output_type": "stream",
     "text": [
      "torch version: 2.4.1\n",
      "tiktoken version: 0.8.0\n"
     ]
    }
   ],
   "source": [
    " #1.检查本节需要使用的库是否存在，以及版本 \n",
    "from importlib.metadata import version \n",
    "\n",
    "print(\"torch version:\", version(\"torch\"))\n",
    "print(\"tiktoken version:\", version(\"tiktoken\"))"
   ]
  },
  {
   "cell_type": "markdown",
   "metadata": {},
   "source": [
    "## 1.理解word embeddings"
   ]
  },
  {
   "cell_type": "markdown",
   "metadata": {},
   "source": [
    "LLMs作用于高维度的数据，维数为所有词的数量，将每一个词对应一个向量（vector）输出（也就是最终输出为一个矩阵）\n",
    "嵌入（embedding）是将文本转换为向量的一个过程（因为向量更便于模型理解和计算）。每一个词元（token）通过嵌入转换为一个高维度的向量，以保留单词间的语义关系。\n",
    "所以将一个文本嵌入，就是让模型能够以向量的形式，理解这个文本里的每一个单词。"
   ]
  },
  {
   "cell_type": "markdown",
   "metadata": {},
   "source": [
    "## 2.文本分词"
   ]
  },
  {
   "cell_type": "markdown",
   "metadata": {},
   "source": [
    "将一段具体的文本，分成单个词汇/标点。 以处理The Verdict by Edith Wharton 为例："
   ]
  },
  {
   "cell_type": "code",
   "execution_count": 8,
   "metadata": {},
   "outputs": [],
   "source": [
    "import os  #导入os库，用于实现与操作系统交互的功能，如处理文件和目录\n",
    "import urllib.request #导入urllib库中的request模块，用于从URL中获取数据，可以下载网页内容/文件。\n",
    "\n",
    "if not os.path.exists(\"the-verdict.txt\"):                         #如果当前路径下不存在the-verdict.txt文件\n",
    "    url = (\"https://raw.githubusercontent.com/rasbt/\"             #记录url\n",
    "           \"LLMs-from-scratch/main/ch02/01_main-chapter-code/\"\n",
    "           \"the-verdict.txt\")\n",
    "    file_path = \"the-verdict.txt\"                                 #记录文件保存后的文件名，以及保存路径为当前目录\n",
    "    urllib.request.urlretrieve(url, file_path)                    #从指定的url中下载文件，保存路径为file_path"
   ]
  },
  {
   "cell_type": "code",
   "execution_count": 9,
   "metadata": {},
   "outputs": [
    {
     "name": "stdout",
     "output_type": "stream",
     "text": [
      "Total number of character: 20479\n",
      "I HAD always thought Jack Gisburn rather a cheap genius--though a good fellow enough--so it was no \n"
     ]
    }
   ],
   "source": [
    "with open(\"the-verdict.txt\", \"r\", encoding=\"utf-8\") as f:         #open函数打开该文件，r表示为只读模式，编码方式为utf-8\n",
    "    raw_text = f.read()                                           #as f，表示后续可以通过f调用该文件。f.read()方法，将文件内容以字符串形式存储到raw_text中\n",
    "                                                                  # with open(...) as f 打开文件，可以不需要再代码末尾写上f.close()来关闭文件\n",
    "print(\"Total number of character:\", len(raw_text))                #打印文章的总长度\n",
    "print(raw_text[:99])                                              #打印文章开头的99个字符"
   ]
  },
  {
   "cell_type": "markdown",
   "metadata": {},
   "source": [
    "- 这部分内容的目标：将文本分词（tokenize），并为LLM创建嵌入（embed）\n",
    "- 以下先建立一个通过简单的文本实例，建立一个简单的分词器（稍后我们可以将它应用到上方的文本中）\n",
    "- 下方的文本以空格作为分割"
   ]
  },
  {
   "cell_type": "code",
   "execution_count": 11,
   "metadata": {},
   "outputs": [
    {
     "name": "stdout",
     "output_type": "stream",
     "text": [
      "['Hello,', ' ', 'world.', ' ', 'This,', ' ', 'is', ' ', 'a', ' ', 'test.']\n"
     ]
    }
   ],
   "source": [
    "import re                                       #导入re库，用于处理正则表达式\n",
    "\n",
    "text = \"Hello, world. This, is a test.\"       \n",
    "result = re.split(r'(\\s)', text)                #调用re库，将text的内容通过空白字符进行分割。（并且空白字符会作为单独的元素保留下来）\n",
    "                                                #\\s表示匹配任意空白字符。()表示分割时候保留匹配的空白字符， r''为原始字符串前缀，表示不对字符串中反斜杠进行转义，可以直接用正则表达式\n",
    "\n",
    "print(result)"
   ]
  },
  {
   "cell_type": "code",
   "execution_count": 12,
   "metadata": {},
   "outputs": [
    {
     "name": "stdout",
     "output_type": "stream",
     "text": [
      "['Hello', ',', '', ' ', 'world', '.', '', ' ', 'This', ',', '', ' ', 'is', ' ', 'a', ' ', 'test', '.', '']\n"
     ]
    }
   ],
   "source": [
    "result = re.split(r'([,.]|\\s)', text)          #改变了正则表达式，现在表明不仅是空格，还会通过逗号和句号进行分割\n",
    "\n",
    "print(result)"
   ]
  },
  {
   "cell_type": "code",
   "execution_count": 13,
   "metadata": {},
   "outputs": [
    {
     "name": "stdout",
     "output_type": "stream",
     "text": [
      "['Hello', ',', 'world', '.', 'This', ',', 'is', 'a', 'test', '.']\n"
     ]
    }
   ],
   "source": [
    "# Strip whitespace from each item and then filter out any empty strings.\n",
    "result = [item for item in result if item.strip()]   #过滤掉result中的空格（利用了列表推导式，这里item.strip()仅在字符串非空返回True\n",
    "print(result)"
   ]
  },
  {
   "cell_type": "code",
   "execution_count": 14,
   "metadata": {},
   "outputs": [
    {
     "name": "stdout",
     "output_type": "stream",
     "text": [
      "['Hello', ',', 'world', '.', 'Is', 'this', '--', 'a', 'test', '?']\n"
     ]
    }
   ],
   "source": [
    "text = \"Hello, world. Is this-- a test?\"\n",
    "\n",
    "result = re.split(r'([,.:;?_!\"()\\']|--|\\s)', text)            #正则表达式，分割词加入了其他的标点符号，以及--和空白符\n",
    "result = [item.strip() for item in result if item.strip()]    #去除空白\n",
    "print(result)"
   ]
  },
  {
   "cell_type": "markdown",
   "metadata": {},
   "source": [
    "- 以上，通过不断加强正则表达式内容，以及去除空格，实现了一个简易的分词器。接下来利用这个模式，处理最开始加入的文本"
   ]
  },
  {
   "cell_type": "code",
   "execution_count": 16,
   "metadata": {},
   "outputs": [
    {
     "name": "stdout",
     "output_type": "stream",
     "text": [
      "['I', 'HAD', 'always', 'thought', 'Jack', 'Gisburn', 'rather', 'a', 'cheap', 'genius', '--', 'though', 'a', 'good', 'fellow', 'enough', '--', 'so', 'it', 'was', 'no', 'great', 'surprise', 'to', 'me', 'to', 'hear', 'that', ',', 'in']\n"
     ]
    }
   ],
   "source": [
    "preprocessed = re.split(r'([,.:;?_!\"()\\']|--|\\s)', raw_text)              #将处理文本利用正则表达式进行分词\n",
    "preprocessed = [item.strip() for item in preprocessed if item.strip()]    #去除空格\n",
    "print(preprocessed[:30])                                                  #打印前30个词（包括了标点符号）"
   ]
  },
  {
   "cell_type": "code",
   "execution_count": 17,
   "metadata": {},
   "outputs": [
    {
     "name": "stdout",
     "output_type": "stream",
     "text": [
      "4690\n"
     ]
    }
   ],
   "source": [
    "print(len(preprocessed))        #打印出预处理串的总长度（去除了空格后，包含标点符号在内的总单词数目）"
   ]
  },
  {
   "cell_type": "markdown",
   "metadata": {},
   "source": [
    "## 3.将词元转换为词元id"
   ]
  },
  {
   "cell_type": "markdown",
   "metadata": {},
   "source": [
    "- 就是将上面获得的不同单词（token）映射到不同的数字，便于后续操作的处理。通常按首字母顺序进行排序，赋于id"
   ]
  },
  {
   "cell_type": "code",
   "execution_count": 20,
   "metadata": {},
   "outputs": [
    {
     "name": "stdout",
     "output_type": "stream",
     "text": [
      "1130\n"
     ]
    }
   ],
   "source": [
    "all_words = sorted(set(preprocessed))    #将上述预处理串中的所有单词处理为集合，并进行排序\n",
    "vocab_size = len(all_words)              #计算处理完后集合的大小\n",
    "\n",
    "print(vocab_size)"
   ]
  },
  {
   "cell_type": "code",
   "execution_count": 21,
   "metadata": {},
   "outputs": [
    {
     "name": "stdout",
     "output_type": "stream",
     "text": [
      "('!', 0)\n",
      "('\"', 1)\n",
      "(\"'\", 2)\n",
      "('(', 3)\n",
      "(')', 4)\n",
      "(',', 5)\n",
      "('--', 6)\n",
      "('.', 7)\n",
      "(':', 8)\n",
      "(';', 9)\n",
      "('?', 10)\n",
      "('A', 11)\n",
      "('Ah', 12)\n",
      "('Among', 13)\n",
      "('And', 14)\n",
      "('Are', 15)\n",
      "('Arrt', 16)\n",
      "('As', 17)\n",
      "('At', 18)\n",
      "('Be', 19)\n",
      "('Begin', 20)\n",
      "('Burlington', 21)\n",
      "('But', 22)\n",
      "('By', 23)\n",
      "('Carlo', 24)\n",
      "('Chicago', 25)\n",
      "('Claude', 26)\n",
      "('Come', 27)\n",
      "('Croft', 28)\n",
      "('Destroyed', 29)\n",
      "('Devonshire', 30)\n",
      "('Don', 31)\n",
      "('Dubarry', 32)\n",
      "('Emperors', 33)\n",
      "('Florence', 34)\n",
      "('For', 35)\n",
      "('Gallery', 36)\n",
      "('Gideon', 37)\n",
      "('Gisburn', 38)\n",
      "('Gisburns', 39)\n",
      "('Grafton', 40)\n",
      "('Greek', 41)\n",
      "('Grindle', 42)\n",
      "('Grindles', 43)\n",
      "('HAD', 44)\n",
      "('Had', 45)\n",
      "('Hang', 46)\n",
      "('Has', 47)\n",
      "('He', 48)\n",
      "('Her', 49)\n",
      "('Hermia', 50)\n"
     ]
    }
   ],
   "source": [
    "vocab = {token:integer for integer,token in enumerate(all_words)}  #利用单词集，通过字典推导式创建了一个名为vocab的字典。\n",
    "                                                                   #enumerate()对参数列表进行枚举，返回一个元组(index,token)。\n",
    "                                                                   #最终字典推导式会将每一个token映射到integer上。token为键，integer为值\n",
    "\n",
    "for i,item in enumerate(vocab.items()):                            #此处i为索引，item为(键，值)对。vocab.item()返回键值对的迭代器。所以enumerate最后返回的是索引+(键值对)\n",
    "    print(item)\n",
    "    if i >= 50:                                                    #只打印前50个\n",
    "        break"
   ]
  },
  {
   "cell_type": "markdown",
   "metadata": {},
   "source": [
    "- 演示对一段文本进行分词 （先获得词汇表，然后分词，再将词元映射到词汇表ID)"
   ]
  },
  {
   "cell_type": "code",
   "execution_count": 23,
   "metadata": {},
   "outputs": [],
   "source": [
    "class SimpleTokenizerV1:                                            #定义一个简易分词的类\n",
    "    def __init__(self, vocab):                                      #构造方法，用于初始化类的实例对象。需要传参vocab\n",
    "        self.str_to_int = vocab                                     #存储vocab（词元映射关系，str:int) ，便于后续编码\n",
    "        self.int_to_str = {i:s for s,i in vocab.items()}            #将vocab的键值对进行了翻转，变成了(int:str)，便于后续解码\n",
    "    \n",
    "    def encode(self, text):                                         #编码函数\n",
    "        preprocessed = re.split(r'([,.:;?_!\"()\\']|--|\\s)', text)    #预处理，将文章分词\n",
    "                                \n",
    "        preprocessed = [\n",
    "            item.strip() for item in preprocessed if item.strip()   #去除空格\n",
    "        ]\n",
    "        ids = [self.str_to_int[s] for s in preprocessed]            #根据词元表，将预处理中的每个词元换成对应的词元id\n",
    "        return ids\n",
    "        \n",
    "    def decode(self, ids):                                          #解码函数\n",
    "        text = \" \".join([self.int_to_str[i] for i in ids])          #将词元id列表转换成对应的词元列表，然后合并为一个字符串，但每给词元之间有空格隔开\n",
    "        # Replace spaces before the specified punctuations\n",
    "        text = re.sub(r'\\s+([,.?!\"()\\'])', r'\\1', text)             #去除掉标点符号前面的空格，使text中内容看起来更美观。比如：hello , world --> hello, world\n",
    "        return text"
   ]
  },
  {
   "cell_type": "markdown",
   "metadata": {},
   "source": [
    "- encode方法将词元转化为词元id的形式，decode则相反\n",
    "- 我们可以用encode方法来对文本进行分词，然后转化为词元id（数字形式）。然后这些数字数据就可以用于后续文本嵌入LLM的输入"
   ]
  },
  {
   "cell_type": "code",
   "execution_count": 25,
   "metadata": {},
   "outputs": [
    {
     "name": "stdout",
     "output_type": "stream",
     "text": [
      "[1, 56, 2, 850, 988, 602, 533, 746, 5, 1126, 596, 5, 1, 67, 7, 38, 851, 1108, 754, 793, 7]\n"
     ]
    }
   ],
   "source": [
    "tokenizer = SimpleTokenizerV1(vocab)                         #获取一个SimpleTokenizerV1的实例，存储了vocab这个词汇表\n",
    "\n",
    "text = \"\"\"\"It's the last he painted, you know,\"              \n",
    "           Mrs. Gisburn said with pardonable pride.\"\"\"       #三个引号用于创建多行字符串，允许直接在字符串内换行，而不需要使用\\n\n",
    "ids = tokenizer.encode(text)                                 #ids存储text分词转化后的词元id列表\n",
    "print(ids)       "
   ]
  },
  {
   "cell_type": "code",
   "execution_count": 26,
   "metadata": {},
   "outputs": [
    {
     "data": {
      "text/plain": [
       "'\" It\\' s the last he painted, you know,\" Mrs. Gisburn said with pardonable pride.'"
      ]
     },
     "execution_count": 26,
     "metadata": {},
     "output_type": "execute_result"
    }
   ],
   "source": [
    "tokenizer.decode(ids)                                        #测试解码"
   ]
  },
  {
   "cell_type": "code",
   "execution_count": 27,
   "metadata": {},
   "outputs": [
    {
     "data": {
      "text/plain": [
       "'\" It\\' s the last he painted, you know,\" Mrs. Gisburn said with pardonable pride.'"
      ]
     },
     "execution_count": 27,
     "metadata": {},
     "output_type": "execute_result"
    }
   ],
   "source": [
    "tokenizer.decode(tokenizer.encode(text))                    #和上述等效"
   ]
  },
  {
   "cell_type": "markdown",
   "metadata": {},
   "source": [
    "## 4.加入特殊的上下词元（特殊标记）"
   ]
  },
  {
   "cell_type": "markdown",
   "metadata": {},
   "source": [
    "- 可以在词汇表里加入特殊的词元作为标记，便于模型处理\n",
    "- 常用的特殊标记有：\n",
    "- [BOS] 表示文章开头\n",
    "- [EOS] 表示文章结尾  通常用于连接多种不相关的文档\n",
    "- [PAD] 空白填充 将不同的序列填充至同一个长度，便于批处理\n",
    "- [UNK] 未识别标记，表示词汇表中没有的单词\n",
    "- GPT-2不使用上述的特殊标识，只用了[endoftext]，从而降低复杂度（代替EOS，PAD）\n",
    "- GPT-2不使用UNK，而是使用 字节对编码（byte-pair encoding -- BPE），将单词分解为子单词块（下一节会讨论到）"
   ]
  },
  {
   "cell_type": "code",
   "execution_count": 30,
   "metadata": {},
   "outputs": [
    {
     "ename": "KeyError",
     "evalue": "'Hello'",
     "output_type": "error",
     "traceback": [
      "\u001b[1;31m---------------------------------------------------------------------------\u001b[0m",
      "\u001b[1;31mKeyError\u001b[0m                                  Traceback (most recent call last)",
      "Cell \u001b[1;32mIn[30], line 6\u001b[0m\n\u001b[0;32m      2\u001b[0m tokenizer \u001b[38;5;241m=\u001b[39m SimpleTokenizerV1(vocab)\n\u001b[0;32m      4\u001b[0m text \u001b[38;5;241m=\u001b[39m \u001b[38;5;124m\"\u001b[39m\u001b[38;5;124mHello, do you like tea. Is this-- a test?\u001b[39m\u001b[38;5;124m\"\u001b[39m\n\u001b[1;32m----> 6\u001b[0m \u001b[43mtokenizer\u001b[49m\u001b[38;5;241;43m.\u001b[39;49m\u001b[43mencode\u001b[49m\u001b[43m(\u001b[49m\u001b[43mtext\u001b[49m\u001b[43m)\u001b[49m \u001b[38;5;66;03m#这里会报错，encode解码方法中，使用到的str_to_int[s] 中，s有未定义的数据（本题中是Hello）\u001b[39;00m\n",
      "Cell \u001b[1;32mIn[23], line 12\u001b[0m, in \u001b[0;36mSimpleTokenizerV1.encode\u001b[1;34m(self, text)\u001b[0m\n\u001b[0;32m      7\u001b[0m preprocessed \u001b[38;5;241m=\u001b[39m re\u001b[38;5;241m.\u001b[39msplit(\u001b[38;5;124mr\u001b[39m\u001b[38;5;124m'\u001b[39m\u001b[38;5;124m([,.:;?_!\u001b[39m\u001b[38;5;124m\"\u001b[39m\u001b[38;5;124m()\u001b[39m\u001b[38;5;130;01m\\'\u001b[39;00m\u001b[38;5;124m]|--|\u001b[39m\u001b[38;5;124m\\\u001b[39m\u001b[38;5;124ms)\u001b[39m\u001b[38;5;124m'\u001b[39m, text)    \u001b[38;5;66;03m#预处理，将文章分词\u001b[39;00m\n\u001b[0;32m      9\u001b[0m preprocessed \u001b[38;5;241m=\u001b[39m [\n\u001b[0;32m     10\u001b[0m     item\u001b[38;5;241m.\u001b[39mstrip() \u001b[38;5;28;01mfor\u001b[39;00m item \u001b[38;5;129;01min\u001b[39;00m preprocessed \u001b[38;5;28;01mif\u001b[39;00m item\u001b[38;5;241m.\u001b[39mstrip()   \u001b[38;5;66;03m#去除空格\u001b[39;00m\n\u001b[0;32m     11\u001b[0m ]\n\u001b[1;32m---> 12\u001b[0m ids \u001b[38;5;241m=\u001b[39m [\u001b[38;5;28mself\u001b[39m\u001b[38;5;241m.\u001b[39mstr_to_int[s] \u001b[38;5;28;01mfor\u001b[39;00m s \u001b[38;5;129;01min\u001b[39;00m preprocessed]            \u001b[38;5;66;03m#根据词元表，将预处理中的每个词元换成对应的词元id\u001b[39;00m\n\u001b[0;32m     13\u001b[0m \u001b[38;5;28;01mreturn\u001b[39;00m ids\n",
      "Cell \u001b[1;32mIn[23], line 12\u001b[0m, in \u001b[0;36m<listcomp>\u001b[1;34m(.0)\u001b[0m\n\u001b[0;32m      7\u001b[0m preprocessed \u001b[38;5;241m=\u001b[39m re\u001b[38;5;241m.\u001b[39msplit(\u001b[38;5;124mr\u001b[39m\u001b[38;5;124m'\u001b[39m\u001b[38;5;124m([,.:;?_!\u001b[39m\u001b[38;5;124m\"\u001b[39m\u001b[38;5;124m()\u001b[39m\u001b[38;5;130;01m\\'\u001b[39;00m\u001b[38;5;124m]|--|\u001b[39m\u001b[38;5;124m\\\u001b[39m\u001b[38;5;124ms)\u001b[39m\u001b[38;5;124m'\u001b[39m, text)    \u001b[38;5;66;03m#预处理，将文章分词\u001b[39;00m\n\u001b[0;32m      9\u001b[0m preprocessed \u001b[38;5;241m=\u001b[39m [\n\u001b[0;32m     10\u001b[0m     item\u001b[38;5;241m.\u001b[39mstrip() \u001b[38;5;28;01mfor\u001b[39;00m item \u001b[38;5;129;01min\u001b[39;00m preprocessed \u001b[38;5;28;01mif\u001b[39;00m item\u001b[38;5;241m.\u001b[39mstrip()   \u001b[38;5;66;03m#去除空格\u001b[39;00m\n\u001b[0;32m     11\u001b[0m ]\n\u001b[1;32m---> 12\u001b[0m ids \u001b[38;5;241m=\u001b[39m [\u001b[38;5;28;43mself\u001b[39;49m\u001b[38;5;241;43m.\u001b[39;49m\u001b[43mstr_to_int\u001b[49m\u001b[43m[\u001b[49m\u001b[43ms\u001b[49m\u001b[43m]\u001b[49m \u001b[38;5;28;01mfor\u001b[39;00m s \u001b[38;5;129;01min\u001b[39;00m preprocessed]            \u001b[38;5;66;03m#根据词元表，将预处理中的每个词元换成对应的词元id\u001b[39;00m\n\u001b[0;32m     13\u001b[0m \u001b[38;5;28;01mreturn\u001b[39;00m ids\n",
      "\u001b[1;31mKeyError\u001b[0m: 'Hello'"
     ]
    }
   ],
   "source": [
    "#测试运行上方写过的分词器 此时text中存在词汇表中没有的单词\n",
    "tokenizer = SimpleTokenizerV1(vocab)\n",
    "\n",
    "text = \"Hello, do you like tea. Is this-- a test?\"\n",
    "\n",
    "tokenizer.encode(text) #这里会报错，encode解码方法中，使用到的str_to_int[s] 中，s有未定义的数据（本题中是Hello）"
   ]
  },
  {
   "cell_type": "code",
   "execution_count": 62,
   "metadata": {},
   "outputs": [],
   "source": [
    "all_tokens = sorted(list(set(preprocessed)))            #修改上方的词汇表，加入了标签endoftext和unk\n",
    "all_tokens.extend([\"<|endoftext|>\",\"<|unk|>\"])\n",
    "\n",
    "vocab = {token:integer for integer,token in enumerate(all_tokens)}  #获取新词汇表"
   ]
  },
  {
   "cell_type": "code",
   "execution_count": 64,
   "metadata": {},
   "outputs": [
    {
     "data": {
      "text/plain": [
       "1132"
      ]
     },
     "execution_count": 64,
     "metadata": {},
     "output_type": "execute_result"
    }
   ],
   "source": [
    "len(vocab.items())    #当前词汇表的长度（比原来多了2）"
   ]
  },
  {
   "cell_type": "code",
   "execution_count": 66,
   "metadata": {},
   "outputs": [
    {
     "name": "stdout",
     "output_type": "stream",
     "text": [
      "('younger', 1127)\n",
      "('your', 1128)\n",
      "('yourself', 1129)\n",
      "('<|endoftext|>', 1130)\n",
      "('<|unk|>', 1131)\n"
     ]
    }
   ],
   "source": [
    "for i,item in enumerate(list(vocab.items())[-5:]):  #打印现在的词汇表的最后5个\n",
    "    print(item)"
   ]
  },
  {
   "cell_type": "code",
   "execution_count": 68,
   "metadata": {},
   "outputs": [],
   "source": [
    "#修改分词器类，使得其能够识别刚刚最后加入的特殊标记\n",
    "\n",
    "class SimpleTokenizerV2:\n",
    "    def __init__(self, vocab):                                                  #初始化。包含了成员变量词汇表和反义词汇表\n",
    "        self.str_to_int = vocab\n",
    "        self.int_to_str = { i:s for s,i in vocab.items()}                    \n",
    "    \n",
    "    def encode(self, text):                                                     #编码方法\n",
    "        preprocessed = re.split(r'([,.:;?_!\"()\\']|--|\\s)', text)                    \n",
    "        preprocessed = [item.strip() for item in preprocessed if item.strip()]\n",
    "        preprocessed = [                                                        #不同处！V1分词器没有这一步。这一步保留了预处理列表中，存在于词汇表中的单词。如果不存在，则替换为<|unk|>\n",
    "            item if item in self.str_to_int \n",
    "            else \"<|unk|>\" for item in preprocessed\n",
    "        ]\n",
    "\n",
    "        ids = [self.str_to_int[s] for s in preprocessed]\n",
    "        return ids\n",
    "        \n",
    "    def decode(self, ids):                                                      #解码方法，因为unk也在词汇表中，这部分没有变化\n",
    "        text = \" \".join([self.int_to_str[i] for i in ids])\n",
    "        # Replace spaces before the specified punctuations\n",
    "        text = re.sub(r'\\s+([,.:;?!\"()\\'])', r'\\1', text)\n",
    "        return text"
   ]
  },
  {
   "cell_type": "code",
   "execution_count": 70,
   "metadata": {},
   "outputs": [
    {
     "name": "stdout",
     "output_type": "stream",
     "text": [
      "Hello, do you like tea? <|endoftext|> In the sunlit terraces of the palace.\n"
     ]
    }
   ],
   "source": [
    "#用修正后的分词器处理数据\n",
    "\n",
    "tokenizer = SimpleTokenizerV2(vocab)\n",
    "\n",
    "text1 = \"Hello, do you like tea?\"\n",
    "text2 = \"In the sunlit terraces of the palace.\"\n",
    "\n",
    "text = \" <|endoftext|> \".join((text1, text2))          #join方法，将前方的字符串加到了text1和text2之间\n",
    "\n",
    "print(text)"
   ]
  },
  {
   "cell_type": "code",
   "execution_count": 72,
   "metadata": {},
   "outputs": [
    {
     "data": {
      "text/plain": [
       "[1131, 5, 355, 1126, 628, 975, 10, 1130, 55, 988, 956, 984, 722, 988, 1131, 7]"
      ]
     },
     "execution_count": 72,
     "metadata": {},
     "output_type": "execute_result"
    }
   ],
   "source": [
    "tokenizer.encode(text)"
   ]
  },
  {
   "cell_type": "code",
   "execution_count": 74,
   "metadata": {},
   "outputs": [
    {
     "data": {
      "text/plain": [
       "'<|unk|>, do you like tea? <|endoftext|> In the sunlit terraces of the <|unk|>.'"
      ]
     },
     "execution_count": 74,
     "metadata": {},
     "output_type": "execute_result"
    }
   ],
   "source": [
    "tokenizer.decode(tokenizer.encode(text))   #解码刚刚重新编码后的数据。这里多了unk，是刚刚上方text中存在，但是词汇表中不存在的单词"
   ]
  },
  {
   "cell_type": "markdown",
   "metadata": {},
   "source": [
    "## 5.字节对编码 BytePair encoding（BPE）"
   ]
  },
  {
   "cell_type": "markdown",
   "metadata": {},
   "source": [
    "- GPT-2 使用BPE作为分词器\n",
    "- 它能将不在词汇表中的单词分解成更小的子单词，甚至是一个个字母，从而正确处理不在表中的单词\n",
    "- 最初的BPE分词器： [https://github.com/openai/gpt-2/blob/master/src/encoder.py](https://github.com/openai/gpt-2/blob/master/src/encoder.py)\n",
    "- 本章节使用OpenAI开源的[tiktoken](https://github.com/openai/tiktoken)库，它的模块核心代码是使用的Rust来提高性能"
   ]
  },
  {
   "cell_type": "code",
   "execution_count": 78,
   "metadata": {},
   "outputs": [],
   "source": [
    "#如果该环境下没有下载tiktoken，需写: pip install tikoken"
   ]
  },
  {
   "cell_type": "code",
   "execution_count": 80,
   "metadata": {},
   "outputs": [
    {
     "name": "stdout",
     "output_type": "stream",
     "text": [
      "tiktoken version: 0.8.0\n"
     ]
    }
   ],
   "source": [
    "import importlib\n",
    "import tiktoken\n",
    "\n",
    "print(\"tiktoken version:\",importlib.metadata.version(\"tiktoken\"))  #导入tiktoken 库，检查是否导入成功以及它的版本"
   ]
  },
  {
   "cell_type": "code",
   "execution_count": 82,
   "metadata": {},
   "outputs": [],
   "source": [
    "tokenizer  = tiktoken.get_encoding(\"gpt2\")  #利用tiktoken库中间的gpt2 的分词器"
   ]
  },
  {
   "cell_type": "code",
   "execution_count": 83,
   "metadata": {},
   "outputs": [
    {
     "name": "stdout",
     "output_type": "stream",
     "text": [
      "[15496, 11, 466, 345, 588, 8887, 30, 220, 50256, 554, 262, 4252, 18250, 8812, 2114, 1659, 617, 34680, 27271, 13]\n"
     ]
    }
   ],
   "source": [
    "text = (\n",
    "    \"Hello, do you like tea? <|endoftext|> In the sunlit terraces\"\n",
    "     \"of someunknownPlace.\"\n",
    ")                                                                       #测试文档\n",
    "\n",
    "integers = tokenizer.encode(text,allowed_special={\"<|endoftext|>\"})      #对text进行分词，保留特殊字符<|endoftext|>，allowed_special可以保证此内容不被再分解\n",
    "                            \n",
    "print(integers)                                                         # 打印此分词的结果"
   ]
  },
  {
   "cell_type": "code",
   "execution_count": 84,
   "metadata": {},
   "outputs": [
    {
     "name": "stdout",
     "output_type": "stream",
     "text": [
      "Hello, do you like tea? <|endoftext|> In the sunlit terracesof someunknownPlace.\n"
     ]
    }
   ],
   "source": [
    "strings = tokenizer.decode(integers)  #将刚刚编码过后的文档再进行解码\n",
    "\n",
    "print(strings)"
   ]
  },
  {
   "cell_type": "markdown",
   "metadata": {},
   "source": [
    "- 上方的词元id列表中，有20个词元id，而实际的单词文本只有十几个。这是因为一些单词不存在于词汇表中，它就被分解成了几个不同的子部分，这些子部分存在于词汇表中"
   ]
  },
  {
   "cell_type": "markdown",
   "metadata": {},
   "source": [
    "## 6.利用滑动窗口进行数据采样"
   ]
  },
  {
   "cell_type": "markdown",
   "metadata": {},
   "source": [
    "- 本节按一次性生成一个单词的形式来训练LLMs，所以我们需要准备训练数据，即连续的序列中的下一个单词，表示需要预测的目标"
   ]
  },
  {
   "cell_type": "code",
   "execution_count": 91,
   "metadata": {},
   "outputs": [
    {
     "name": "stdout",
     "output_type": "stream",
     "text": [
      "5145\n"
     ]
    }
   ],
   "source": [
    "with open(\"the-verdict.txt\",\"r\",encoding=\"utf-8\") as f:\n",
    "    raw_text = f.read()                                   #打开用于训练的txt文本，并记录数据\n",
    "\n",
    "enc_text = tokenizer.encode(raw_text)                     #将训练文本进行分词编码，这里的tokenizer是上方导入的tiktoken库的分词器\n",
    "print(len(enc_text))                                      #打印编码后的长度"
   ]
  },
  {
   "cell_type": "markdown",
   "metadata": {},
   "source": [
    "- 对于每一个文本块，我们需要输入和目标。目标就是当前输入的右边一个单词（下一个单词）"
   ]
  },
  {
   "cell_type": "code",
   "execution_count": 94,
   "metadata": {},
   "outputs": [],
   "source": [
    "enc_sample = enc_text[50:]         #样例文本为训练文本从第50个索引开始向后"
   ]
  },
  {
   "cell_type": "code",
   "execution_count": 96,
   "metadata": {},
   "outputs": [
    {
     "name": "stdout",
     "output_type": "stream",
     "text": [
      "x: [290, 4920, 2241, 287]\n",
      "y: [4920, 2241, 287, 257]\n"
     ]
    }
   ],
   "source": [
    "context_size = 4                #每一个文本块的长度为4\n",
    "\n",
    "x = enc_sample[:context_size]   #输入\n",
    "y = enc_sample[1:context_size+1]#输出\n",
    "\n",
    "print(f\"x: {x}\")\n",
    "print(f\"y: {y}\")"
   ]
  },
  {
   "cell_type": "code",
   "execution_count": 98,
   "metadata": {},
   "outputs": [
    {
     "name": "stdout",
     "output_type": "stream",
     "text": [
      "[290] ----> 4920\n",
      "[290, 4920] ----> 2241\n",
      "[290, 4920, 2241] ----> 287\n",
      "[290, 4920, 2241, 287] ----> 257\n"
     ]
    }
   ],
   "source": [
    "#一个一个向后进行“预测”\n",
    "for i in range(1, context_size+1): \n",
    "    context = enc_sample[:i]          #读取从开头到当前前一个的文本单词\n",
    "    desired = enc_sample[i]           #读取当前单词\n",
    "\n",
    "    print(context, \"---->\", desired)"
   ]
  },
  {
   "cell_type": "code",
   "execution_count": 100,
   "metadata": {},
   "outputs": [
    {
     "name": "stdout",
     "output_type": "stream",
     "text": [
      " and ---->  established\n",
      " and established ---->  himself\n",
      " and established himself ---->  in\n",
      " and established himself in ---->  a\n"
     ]
    }
   ],
   "source": [
    "for i in range(1, context_size+1):\n",
    "    context = enc_sample[:i]\n",
    "    desired = enc_sample[i]\n",
    "\n",
    "    print(tokenizer.decode(context), \"---->\", tokenizer.decode([desired]))       #和上方的功能一样，但是将预测的词元id解码成了词汇表中实际的单词"
   ]
  },
  {
   "cell_type": "markdown",
   "metadata": {},
   "source": [
    "- 在之后学习了注意力机制后，处理下一个单词的预测功能\n",
    "- 现在先实现一个简单的数据加载模块，遍历数据集，并返回向后偏移了一个位置的输入和目标"
   ]
  },
  {
   "cell_type": "code",
   "execution_count": 103,
   "metadata": {},
   "outputs": [
    {
     "name": "stdout",
     "output_type": "stream",
     "text": [
      "PyTorch version: 2.4.1+cpu\n"
     ]
    }
   ],
   "source": [
    "import torch\n",
    "print(\"PyTorch version:\", torch.__version__)       #载入PyTorch,检查版本"
   ]
  },
  {
   "cell_type": "code",
   "execution_count": 104,
   "metadata": {},
   "outputs": [],
   "source": [
    "from torch.utils.data import Dataset, DataLoader   #载入模块Dataset 和 DataLoader .其中Dataset用于创建自定义数据集类，DataLoader用于将数据集打包并迭代数据\n",
    "\n",
    "\n",
    "class GPTDatasetV1(Dataset):                       #继承自Dataset,构建一个自己的数据集\n",
    "    def __init__(self, txt, tokenizer, max_length, stride):        #初始化，接受四个参数：待处理文本，分词器，子序列的最大长度，滑动窗口的步幅\n",
    "        self.input_ids = []                        #用于记录输入\n",
    "        self.target_ids = []                       #用于记录目标\n",
    "\n",
    "        # Tokenize the entire text\n",
    "        token_ids = tokenizer.encode(txt, allowed_special={\"<|endoftext|>\"})    #将处理文本进行编码\n",
    "\n",
    "        # Use a sliding window to chunk the book into overlapping sequences of max_length\n",
    "        for i in range(0, len(token_ids) - max_length, stride):      #逐步遍历待处理文本\n",
    "            input_chunk = token_ids[i:i + max_length]                #当前的输入文本\n",
    "            target_chunk = token_ids[i + 1: i + max_length + 1]      #当前的目标文本\n",
    "            self.input_ids.append(torch.tensor(input_chunk))         #将输入文本和输出文本转化成pytorch中的张量（tensor），并记录下来。\n",
    "            self.target_ids.append(torch.tensor(target_chunk))\n",
    "                                                                     #以下两个方法符合pytorch的接口规范。\n",
    "    def __len__(self):                                               #返回样本的数量\n",
    "        return len(self.input_ids)\n",
    "\n",
    "    def __getitem__(self, idx):                                      #获取当前元素及下一个元素\n",
    "        return self.input_ids[idx], self.target_ids[idx]"
   ]
  },
  {
   "cell_type": "code",
   "execution_count": 105,
   "metadata": {},
   "outputs": [],
   "source": [
    "def create_dataloader_v1(txt, batch_size=4, max_length=256, \n",
    "                         stride=128, shuffle=True, drop_last=True,\n",
    "                         num_workers=0):\n",
    "                                                                        #定义一个创建数据集的函数。\n",
    "                                                                        #batch_size表示每个批次处理的样本数，max_length表示输入序列的最大长度，\n",
    "                                                                        #stride表示滑动窗口的步幅，shuffle表示是否打乱数据，\n",
    "                                                                        #drop_last表示是否丢弃最后一组不满足批次大小的部分，num_workers表示用于加载数据的子进程数目\n",
    "    \n",
    "    # Initialize the tokenizer\n",
    "    tokenizer = tiktoken.get_encoding(\"gpt2\")                           #初始化分词器\n",
    "\n",
    "    # Create dataset\n",
    "    dataset = GPTDatasetV1(txt, tokenizer, max_length, stride)          #创建数据集实例\n",
    "\n",
    "    # Create dataloader\n",
    "    dataloader = DataLoader(\n",
    "        dataset,\n",
    "        batch_size=batch_size,\n",
    "        shuffle=shuffle,\n",
    "        drop_last=drop_last,\n",
    "        num_workers=num_workers\n",
    "    )                                                                   #使用pytorch的DataLoader将数据集进行包装，参数包含数据源dataset，批处理样本数，\n",
    "                                                                        #epoch开始的时候是否打乱数据，是否丢弃最后批次大小不够的数据，加载数据的进程数\n",
    "\n",
    "    return dataloader"
   ]
  },
  {
   "cell_type": "markdown",
   "metadata": {},
   "source": [
    "- 使用上述定义的数据集，对测试文档进行处理（批处理数为1，文本大小为4）"
   ]
  },
  {
   "cell_type": "code",
   "execution_count": 107,
   "metadata": {},
   "outputs": [],
   "source": [
    "with open(\"the-verdict.txt\",\"r\",encoding=\"utf-8\") as f:\n",
    "    raw_text = f.read()"
   ]
  },
  {
   "cell_type": "code",
   "execution_count": 108,
   "metadata": {},
   "outputs": [
    {
     "name": "stdout",
     "output_type": "stream",
     "text": [
      "[tensor([[  40,  367, 2885, 1464]]), tensor([[ 367, 2885, 1464, 1807]])]\n"
     ]
    }
   ],
   "source": [
    "dataloader = create_dataloader_v1(\n",
    "    raw_text,batch_size=1,max_length=4,stride=1,shuffle=False \n",
    ")                                          #创建一个数据集加载器\n",
    "                  \n",
    "data_iter = iter(dataloader)               #将数据集加载器转化为迭代器（使用python自带的iter函数）。这里python的迭代器和c++的不一样，此时不是指向第一个数据，必须要next才会指向第一个数据\n",
    "first_batch = next(data_iter)              #使用next()函数，返回当前迭代器的下一个数据。此时第一次调用next，所以是第一个批次\n",
    "print(first_batch)"
   ]
  },
  {
   "cell_type": "code",
   "execution_count": 109,
   "metadata": {},
   "outputs": [
    {
     "name": "stdout",
     "output_type": "stream",
     "text": [
      "[tensor([[ 367, 2885, 1464, 1807]]), tensor([[2885, 1464, 1807, 3619]])]\n"
     ]
    }
   ],
   "source": [
    "second_batch = next(data_iter)             #同样的，打印第二批次\n",
    "print(second_batch)"
   ]
  },
  {
   "cell_type": "markdown",
   "metadata": {},
   "source": [
    "- 当步幅stride等于max_length的时候，每一次批处理的时候，避免了数据的重叠，避免数据过拟合"
   ]
  },
  {
   "cell_type": "code",
   "execution_count": 111,
   "metadata": {},
   "outputs": [
    {
     "name": "stdout",
     "output_type": "stream",
     "text": [
      "Inputs:\n",
      " tensor([[   40,   367,  2885,  1464],\n",
      "        [ 1807,  3619,   402,   271],\n",
      "        [10899,  2138,   257,  7026],\n",
      "        [15632,   438,  2016,   257],\n",
      "        [  922,  5891,  1576,   438],\n",
      "        [  568,   340,   373,   645],\n",
      "        [ 1049,  5975,   284,   502],\n",
      "        [  284,  3285,   326,    11]])\n",
      "\n",
      "Targets:\n",
      " tensor([[  367,  2885,  1464,  1807],\n",
      "        [ 3619,   402,   271, 10899],\n",
      "        [ 2138,   257,  7026, 15632],\n",
      "        [  438,  2016,   257,   922],\n",
      "        [ 5891,  1576,   438,   568],\n",
      "        [  340,   373,   645,  1049],\n",
      "        [ 5975,   284,   502,   284],\n",
      "        [ 3285,   326,    11,   287]])\n"
     ]
    }
   ],
   "source": [
    "dataloader = create_dataloader_v1(raw_text, batch_size=8, max_length=4, stride=4, shuffle=False)   #步幅等于每个处理文本的长度\n",
    "\n",
    "data_iter = iter(dataloader)            #返回数据集迭代器\n",
    "inputs, targets = next(data_iter)       #这个返回第一个数据。注意这些数据是包含了输入和输出的，分别传给了inputs和targets\n",
    "print(\"Inputs:\\n\", inputs)\n",
    "print(\"\\nTargets:\\n\", targets)          #由于batch_size = 8,所以每一批传入8个张量"
   ]
  },
  {
   "cell_type": "markdown",
   "metadata": {},
   "source": [
    "## 7.创建词元（token）嵌入"
   ]
  },
  {
   "cell_type": "markdown",
   "metadata": {},
   "source": [
    "- 数据已经准备好了（分词完成，形成数据加载集），需要将这些token放到一个连续的向量中（使用嵌入层embedding layer）\n",
    "- 这些嵌入层是LLM的一部分，会在模型训练的过程中不断更新"
   ]
  },
  {
   "cell_type": "code",
   "execution_count": 114,
   "metadata": {},
   "outputs": [
    {
     "name": "stdout",
     "output_type": "stream",
     "text": [
      "Embedding(6, 3)\n",
      "Parameter containing:\n",
      "tensor([[ 0.3374, -0.1778, -0.1690],\n",
      "        [ 0.9178,  1.5810,  1.3010],\n",
      "        [ 1.2753, -0.2010, -0.1606],\n",
      "        [-0.4015,  0.9666, -1.1481],\n",
      "        [-1.1589,  0.3255, -0.6315],\n",
      "        [-2.8400, -0.7849, -1.4096]], requires_grad=True)\n"
     ]
    }
   ],
   "source": [
    "#举一个小例子\n",
    "input_ids = torch.tensor([2,3,5,1]) #假设已经分词完成，获得了一组输入\n",
    "\n",
    "vocab_size = 6    #简化例子，只考虑一个6词元的词汇表和一个大小为3的嵌入向量维度\n",
    "output_dim = 3  \n",
    "\n",
    "torch.manual_seed(123)         #设置随机数种子，使得每次运行代码是生成的随机数是相同的，便于调试和对比结果\n",
    "embedding_layer = torch.nn.Embedding(vocab_size,output_dim)  #创建一个嵌入层，参数传入词汇表大小和嵌入维度\n",
    "\n",
    "#嵌入层是一个可以学习的权重矩阵，为vocab_size X output_dim大小的矩阵\n",
    "print(embedding_layer)         #打印出嵌入层，显示的是Embedding(vocab_size,output_dim)\n",
    "print(embedding_layer.weight)  #打印权重矩阵"
   ]
  },
  {
   "cell_type": "markdown",
   "metadata": {},
   "source": [
    "- 将tokens转化为高维向量，可以使用one-hot编码和矩阵乘法，或者使用嵌入层。这两者在数学上等效，但是嵌入层更高效和节省内存。"
   ]
  },
  {
   "cell_type": "code",
   "execution_count": 124,
   "metadata": {},
   "outputs": [
    {
     "name": "stdout",
     "output_type": "stream",
     "text": [
      "tensor([[-0.4015,  0.9666, -1.1481]], grad_fn=<EmbeddingBackward0>)\n"
     ]
    }
   ],
   "source": [
    "print(embedding_layer(torch.tensor([3])))  #将id为3的token转换为向量（维度为嵌入层维度3）"
   ]
  },
  {
   "cell_type": "code",
   "execution_count": 126,
   "metadata": {},
   "outputs": [
    {
     "name": "stdout",
     "output_type": "stream",
     "text": [
      "tensor([[ 1.2753, -0.2010, -0.1606],\n",
      "        [-0.4015,  0.9666, -1.1481],\n",
      "        [-2.8400, -0.7849, -1.4096],\n",
      "        [ 0.9178,  1.5810,  1.3010]], grad_fn=<EmbeddingBackward0>)\n"
     ]
    }
   ],
   "source": [
    "print(embedding_layer(input_ids))  #打印input_ids对应值的权重向量"
   ]
  },
  {
   "cell_type": "markdown",
   "metadata": {},
   "source": [
    "- 获得嵌入层的权重矩阵，然后根据token id，将每一个id对应的值化为权重矩阵中的一个行向量。"
   ]
  },
  {
   "cell_type": "markdown",
   "metadata": {},
   "source": [
    "## 8.解码单词位置"
   ]
  },
  {
   "cell_type": "markdown",
   "metadata": {},
   "source": [
    "- 嵌入层将每一个token映射到上述的稠密矩阵中，获得一个行向量。但这个行向量本身并不会记录位置。即无论这个token是在什么位置，它对应的向量都是同一个\n",
    "- 所以需要加上位置编码(加上一个Positional embeddings)，将原本的token embeddings -->转换为输入用的嵌入(input embeddings)"
   ]
  },
  {
   "cell_type": "code",
   "execution_count": 145,
   "metadata": {},
   "outputs": [],
   "source": [
    "vocab_size =  50257  #假定一个字节对解码器词汇表大小为50257\n",
    "output_dim = 256  #将每一个token为一个256维度的向量\n",
    "\n",
    "token_embedding_layer = torch.nn.Embedding(vocab_size,output_dim)  #获得一个token的嵌入层，将每一个token映射到其中一个向量"
   ]
  },
  {
   "cell_type": "code",
   "execution_count": 143,
   "metadata": {},
   "outputs": [],
   "source": [
    "max_length = 4                                     #输入文本的处理长度。每一块最多为4个token\n",
    "dataloader = create_dataloader_v1(\n",
    "    raw_text,batch_size=8,max_length=max_length,\n",
    "    stride=max_length,shuffle=False\n",
    ")                                                  #创建一个数据加载器\n",
    "data_iter = iter(dataloader)         \n",
    "inputs,targets = next(data_iter)                   #利用迭代器，查询当前数据加载器中的第一批次输入和目标"
   ]
  },
  {
   "cell_type": "code",
   "execution_count": 141,
   "metadata": {},
   "outputs": [
    {
     "name": "stdout",
     "output_type": "stream",
     "text": [
      "Token IDs:\n",
      " tensor([[   40,   367,  2885,  1464],\n",
      "        [ 1807,  3619,   402,   271],\n",
      "        [10899,  2138,   257,  7026],\n",
      "        [15632,   438,  2016,   257],\n",
      "        [  922,  5891,  1576,   438],\n",
      "        [  568,   340,   373,   645],\n",
      "        [ 1049,  5975,   284,   502],\n",
      "        [  284,  3285,   326,    11]])\n",
      "\n",
      "Inputs shape:\n",
      " torch.Size([8, 4])\n"
     ]
    }
   ],
   "source": [
    "print(\"Token IDs:\\n\",inputs)                       #打印输入文本被转化为token的形式\n",
    "print(\"\\nInputs shape:\\n\",inputs.shape)            #打印当前这段数据的维度形状"
   ]
  },
  {
   "cell_type": "code",
   "execution_count": 149,
   "metadata": {},
   "outputs": [
    {
     "name": "stdout",
     "output_type": "stream",
     "text": [
      "torch.Size([8, 4, 256])\n"
     ]
    }
   ],
   "source": [
    "token_embeddings = token_embedding_layer(inputs)   #通过嵌入层，将inputs中的tokens转化为嵌入向量\n",
    "print(token_embeddings.shape)    #打印这个嵌入向量的维度。其为文本的维度加上了一个token的维度"
   ]
  },
  {
   "cell_type": "markdown",
   "metadata": {},
   "source": [
    "- GPT-2 使用的是绝对位置嵌入。"
   ]
  },
  {
   "cell_type": "code",
   "execution_count": 153,
   "metadata": {},
   "outputs": [],
   "source": [
    "context_length = max_length              #定义文本的大小                         \n",
    "pos_embedding_layer = torch.nn.Embedding(context_length,output_dim)   #创建一个新的嵌入层"
   ]
  },
  {
   "cell_type": "code",
   "execution_count": 155,
   "metadata": {},
   "outputs": [
    {
     "name": "stdout",
     "output_type": "stream",
     "text": [
      "torch.Size([4, 256])\n"
     ]
    }
   ],
   "source": [
    "pos_embeddings = pos_embedding_layer(torch.arange(max_length))  #将一个[0:maxlenth-1]的token序列通过嵌入层处理，每一个token变成一个向量\n",
    "print(pos_embeddings.shape) "
   ]
  },
  {
   "cell_type": "code",
   "execution_count": 157,
   "metadata": {},
   "outputs": [
    {
     "name": "stdout",
     "output_type": "stream",
     "text": [
      "torch.Size([8, 4, 256])\n"
     ]
    }
   ],
   "source": [
    "input_embeddings = token_embeddings+pos_embeddings   #将刚刚建立的位置嵌入和之前的文本嵌入简单相加，就可以得到了输入嵌入\n",
    "print(input_embeddings.shape)"
   ]
  },
  {
   "cell_type": "code",
   "execution_count": null,
   "metadata": {},
   "outputs": [],
   "source": []
  },
  {
   "cell_type": "markdown",
   "metadata": {},
   "source": [
    "### <b>流程总结：<b>\n",
    "- 1.将准备好的输入文本进行分词\n",
    "- 2.将分词好的token序列转化为token ID 序列（利用准备好的词汇表字典）。这部分都在数据加载器中完成了\n",
    "- 3.从数据加载器中获取输入数据\n",
    "- 4.获得一个大小为(词汇表大小，每个token维度)的嵌入层。\n",
    "- 5.将输入数据通过嵌入层，使得其中每一个token id 都被转换为一个嵌入向量（即获得了token嵌入）\n",
    "- 6.获取一个位置嵌入\n",
    "- 7.将位置嵌入和token嵌入相加，即获得了一个最终的输入嵌入"
   ]
  },
  {
   "cell_type": "code",
   "execution_count": null,
   "metadata": {},
   "outputs": [],
   "source": []
  }
 ],
 "metadata": {
  "kernelspec": {
   "display_name": "LLMs",
   "language": "python",
   "name": "llms"
  },
  "language_info": {
   "codemirror_mode": {
    "name": "ipython",
    "version": 3
   },
   "file_extension": ".py",
   "mimetype": "text/x-python",
   "name": "python",
   "nbconvert_exporter": "python",
   "pygments_lexer": "ipython3",
   "version": "3.10.15"
  }
 },
 "nbformat": 4,
 "nbformat_minor": 4
}
